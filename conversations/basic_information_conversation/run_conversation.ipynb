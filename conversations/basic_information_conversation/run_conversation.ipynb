{
 "cells": [
  {
   "cell_type": "code",
   "execution_count": null,
   "id": "25ba394f",
   "metadata": {},
   "outputs": [],
   "source": [
    "import gradio as gr\n",
    "from graph import InitialConversationGraph\n",
    "\n",
    "graph = InitialConversationGraph()\n",
    "\n",
    "graph.setup()\n",
    "\n",
    "initial_message = graph.run_graph_initially()\n",
    "\n",
    "def chat(message, history):\n",
    "    if not history:  # If this is the first user message, add the initial assistant message\n",
    "        history = [(\"assistant\", initial_message)]\n",
    "    history.append((\"user\", message))\n",
    "    response = graph.run_graph(message)\n",
    "    history.append((\"assistant\", response))\n",
    "    return history\n",
    "\n",
    "with gr.Blocks() as demo:\n",
    "    chatbot = gr.Chatbot(value=[(\"assistant\", initial_message)], label=\"Soul Match\")\n",
    "    msg = gr.Textbox()\n",
    "\n",
    "    def user_chat(user_message, chat_history):\n",
    "        return chat(user_message, chat_history)\n",
    "\n",
    "    msg.submit(user_chat, [msg, chatbot], chatbot)\n",
    "\n",
    "demo.launch()"
   ]
  },
  {
   "cell_type": "code",
   "execution_count": 3,
   "id": "087d5477",
   "metadata": {},
   "outputs": [
    {
     "name": "stdout",
     "output_type": "stream",
     "text": [
      "Closing server running on port: 7860\n"
     ]
    }
   ],
   "source": [
    "demo.close()"
   ]
  }
 ],
 "metadata": {
  "kernelspec": {
   "display_name": "soul-match",
   "language": "python",
   "name": "python3"
  },
  "language_info": {
   "codemirror_mode": {
    "name": "ipython",
    "version": 3
   },
   "file_extension": ".py",
   "mimetype": "text/x-python",
   "name": "python",
   "nbconvert_exporter": "python",
   "pygments_lexer": "ipython3",
   "version": "3.12.10"
  }
 },
 "nbformat": 4,
 "nbformat_minor": 5
}
